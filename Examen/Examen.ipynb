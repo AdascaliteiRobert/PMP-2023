{
  "nbformat": 4,
  "nbformat_minor": 0,
  "metadata": {
    "colab": {
      "provenance": []
    },
    "kernelspec": {
      "name": "python3",
      "display_name": "Python 3"
    },
    "language_info": {
      "name": "python"
    }
  },
  "cells": [
    {
      "cell_type": "code",
      "source": [
        "import pymc as pm\n",
        "import arviz as az\n",
        "import numpy as np\n",
        "import matplotlib.pyplot as plt\n",
        "import pandas as pd\n",
        "import scipy.stats as stats\n",
        "import arviz as az\n",
        "import pytensor as pt\n",
        "\n",
        "import pandas as pd\n",
        "\n",
        "\n",
        "\n",
        "# a)Incarcam setul de date într-un dataframe pandas\n",
        "df = pd.read_csv('/content/drive/MyDrive/BostonHousing.csv')\n",

        "print(df.head())\n",
        "\n",
        "\n",
        "# b) Definiti modelul PyMC folosind variabilele independente rm, crim si indus pentru a prezice variabila dependenta medv\n",
        "with pm.Model() as model:\n",
        "    # Definirea parametrilor\n",
        "    intercept = pm.Normal('intercept', mu=0, sigma=10)\n",
        "    beta_rm = pm.Normal('beta_rm', mu=0, sigma=10)\n",
        "    beta_crim = pm.Normal('beta_crim', mu=0, sigma=10)\n",
        "    beta_indus = pm.Normal('beta_indus', mu=0, sigma=10)\n",
        "    # Definirea modelului liniar\n",
        "    mu = intercept + beta_rm * df['rm'] + beta_crim * df['crim'] + beta_indus * df['indus']\n",
        "    # Definirea distributiei pentru variabila dependenta medv\n",
        "    medv = pm.Normal('medv', mu=mu, sigma=1, observed=df['medv'])\n",
        "\n",
        "    # Estimarea parametrilor folosind MCMC\n",
        "    trace = pm.sample(2000, tune=1000)\n",
        "\n",
        "\n",
        "\n"
      ],
      "metadata": {
        "id": "H-VidtDLj7uE",
        "colab": {
          "base_uri": "https://localhost:8080/",
          "height": 283
        },
        "outputId": "8f7b51d0-83da-443f-e56a-eb100d0625b1"
      },
      "execution_count": 21,
      "outputs": [
        {
          "output_type": "stream",
          "name": "stdout",
          "text": [
            "      crim    zn  indus  chas    nox     rm   age     dis  rad  tax  ptratio  \\\n",
            "0  0.00632  18.0   2.31     0  0.538  6.575  65.2  4.0900    1  296     15.3   \n",
            "1  0.02731   0.0   7.07     0  0.469  6.421  78.9  4.9671    2  242     17.8   \n",
            "2  0.02729   0.0   7.07     0  0.469  7.185  61.1  4.9671    2  242     17.8   \n",
            "3  0.03237   0.0   2.18     0  0.458  6.998  45.8  6.0622    3  222     18.7   \n",
            "4  0.06905   0.0   2.18     0  0.458  7.147  54.2  6.0622    3  222     18.7   \n",
            "\n",
            "        b  lstat  medv  \n",
            "0  396.90   4.98  24.0  \n",
            "1  396.90   9.14  21.6  \n",
            "2  392.83   4.03  34.7  \n",
            "3  394.63   2.94  33.4  \n",
            "4  396.90   5.33  36.2  \n"
          ]
        },
        {
          "output_type": "display_data",
          "data": {
            "text/plain": [
              "<IPython.core.display.HTML object>"
            ],
            "text/html": [
              "\n",
              "<style>\n",
              "    /* Turns off some styling */\n",
              "    progress {\n",
              "        /* gets rid of default border in Firefox and Opera. */\n",
              "        border: none;\n",
              "        /* Needs to be in here for Safari polyfill so background images work as expected. */\n",
              "        background-size: auto;\n",
              "    }\n",
              "    progress:not([value]), progress:not([value])::-webkit-progress-bar {\n",
              "        background: repeating-linear-gradient(45deg, #7e7e7e, #7e7e7e 10px, #5c5c5c 10px, #5c5c5c 20px);\n",
              "    }\n",
              "    .progress-bar-interrupted, .progress-bar-interrupted::-webkit-progress-bar {\n",
              "        background: #F44336;\n",
              "    }\n",
              "</style>\n"
            ]
          },
          "metadata": {}
        },
        {
          "output_type": "display_data",
          "data": {
            "text/plain": [
              "<IPython.core.display.HTML object>"
            ],
            "text/html": [
              "\n",
              "    <div>\n",
              "      <progress value='3000' class='' max='3000' style='width:300px; height:20px; vertical-align: middle;'></progress>\n",
              "      100.00% [3000/3000 00:21&lt;00:00 Sampling chain 0, 0 divergences]\n",
              "    </div>\n",
              "    "
            ]
          },
          "metadata": {}
        },
        {
          "output_type": "display_data",
          "data": {
            "text/plain": [
              "<IPython.core.display.HTML object>"
            ],
            "text/html": [
              "\n",
              "<style>\n",
              "    /* Turns off some styling */\n",
              "    progress {\n",
              "        /* gets rid of default border in Firefox and Opera. */\n",
              "        border: none;\n",
              "        /* Needs to be in here for Safari polyfill so background images work as expected. */\n",
              "        background-size: auto;\n",
              "    }\n",
              "    progress:not([value]), progress:not([value])::-webkit-progress-bar {\n",
              "        background: repeating-linear-gradient(45deg, #7e7e7e, #7e7e7e 10px, #5c5c5c 10px, #5c5c5c 20px);\n",
              "    }\n",
              "    .progress-bar-interrupted, .progress-bar-interrupted::-webkit-progress-bar {\n",
              "        background: #F44336;\n",
              "    }\n",
              "</style>\n"
            ]
          },
          "metadata": {}
        },
        {
          "output_type": "display_data",
          "data": {
            "text/plain": [
              "<IPython.core.display.HTML object>"
            ],
            "text/html": [
              "\n",
              "    <div>\n",
              "      <progress value='3000' class='' max='3000' style='width:300px; height:20px; vertical-align: middle;'></progress>\n",
              "      100.00% [3000/3000 00:24&lt;00:00 Sampling chain 1, 0 divergences]\n",
              "    </div>\n",
              "    "
            ]
          },
          "metadata": {}
        }
      ]
    },
    {
      "cell_type": "markdown",
      "source": [
        "c) Din acest rezumat, putem observa care dintre variabilele independente (rm, crim si indus) au intervalele de incredere cele mai stranse, ceea ce ar putea indica o influenta mai puternica asupra variabilei dependente (medv)."
      ],
      "metadata": {
        "id": "UCqTFFodg_el"
      }
    },
    {
      "cell_type": "code",
      "source": [
        "#Estimari de 95% pentru HDI\n",
        "summary = az.summary(trace, hdi_prob=0.95)\n",
        "print(summary)\n"
      ],
      "metadata": {
        "colab": {
          "base_uri": "https://localhost:8080/"
        },
        "id": "pJ4EFkO7TsTH",
        "outputId": "0edd224e-1908-4ee0-94eb-a298e6ae0b05"
      },
      "execution_count": 14,
      "outputs": [
        {
          "output_type": "stream",
          "name": "stdout",
          "text": [
            "              mean     sd  hdi_2.5%  hdi_97.5%  mcse_mean  mcse_sd  ess_bulk  \\\n",
            "intercept  -22.102  0.469   -23.025    -21.217      0.012    0.009    1511.0   \n",
            "beta_rm      7.643  0.069     7.512      7.776      0.002    0.001    1566.0   \n",
            "beta_crim   -0.200  0.006    -0.211     -0.190      0.000    0.000    2178.0   \n",
            "beta_indus  -0.240  0.007    -0.253     -0.224      0.000    0.000    2057.0   \n",
            "\n",
            "            ess_tail  r_hat  \n",
            "intercept     1839.0    1.0  \n",
            "beta_rm       1983.0    1.0  \n",
            "beta_crim     2401.0    1.0  \n",
            "beta_indus    2288.0    1.0  \n"
          ]
        }
      ]
    },
    {
      "cell_type": "code",
      "source": [
        "\n",
        "#d)#extrageri din distributia predictiva\n",
        "with model:\n",
        "    post_pred = pm.sample_posterior_predictive(trace)\n",
        "\n",
        "#50% HDI pentru valoarea locuintelor\n",
        "az.plot_forest(post_pred,hdi_prob=0.50,var_names=['medv_obs'])\n",
        "az.summary(post_pred,hdi_prob=0.50,var_names=['medv_obs'])\n"
      ],
      "metadata": {
        "colab": {
          "base_uri": "https://localhost:8080/",
          "height": 245
        },
        "id": "FAQDCK_4ZiOy",
        "outputId": "6b278883-1a94-41dc-e2f7-76a612de1810"
      },
      "execution_count": 40,
      "outputs": [
        {
          "output_type": "error",
          "ename": "TypeError",
          "evalue": "sample_posterior_predictive() got an unexpected keyword argument 'samples'",
          "traceback": [
            "\u001b[0;31m---------------------------------------------------------------------------\u001b[0m",
            "\u001b[0;31mTypeError\u001b[0m                                 Traceback (most recent call last)",
            "\u001b[0;32m<ipython-input-40-e343498bf5d7>\u001b[0m in \u001b[0;36m<cell line: 2>\u001b[0;34m()\u001b[0m\n\u001b[1;32m      1\u001b[0m \u001b[0;31m# Simularea extragerilor din distribuția predictivă posterioară\u001b[0m\u001b[0;34m\u001b[0m\u001b[0;34m\u001b[0m\u001b[0m\n\u001b[1;32m      2\u001b[0m \u001b[0;32mwith\u001b[0m \u001b[0mmodel\u001b[0m\u001b[0;34m:\u001b[0m\u001b[0;34m\u001b[0m\u001b[0;34m\u001b[0m\u001b[0m\n\u001b[0;32m----> 3\u001b[0;31m     \u001b[0mpost_pred\u001b[0m \u001b[0;34m=\u001b[0m \u001b[0mpm\u001b[0m\u001b[0;34m.\u001b[0m\u001b[0msample_posterior_predictive\u001b[0m\u001b[0;34m(\u001b[0m\u001b[0mtrace\u001b[0m\u001b[0;34m,\u001b[0m \u001b[0msamples\u001b[0m\u001b[0;34m=\u001b[0m\u001b[0;36m1000\u001b[0m\u001b[0;34m)\u001b[0m\u001b[0;34m\u001b[0m\u001b[0;34m\u001b[0m\u001b[0m\n\u001b[0m\u001b[1;32m      4\u001b[0m \u001b[0;34m\u001b[0m\u001b[0m\n\u001b[1;32m      5\u001b[0m \u001b[0;31m# Calcularea intervalului de predicție de 50% HDI pentru valoarea locuințelor\u001b[0m\u001b[0;34m\u001b[0m\u001b[0;34m\u001b[0m\u001b[0m\n",
            "\u001b[0;31mTypeError\u001b[0m: sample_posterior_predictive() got an unexpected keyword argument 'samples'"
          ]
        }
      ]
    },
    {
      "cell_type": "markdown",
      "source": [
        "**Subiectul 2**\n"
      ],
      "metadata": {
        "id": "PkX-RuPBXzY7"
      }
    },
    {
      "cell_type": "code",
      "source": [
        "import numpy as np\n",
        "import matplotlib.pyplot as plt\n",
        "from scipy import stats\n",
        "\n",
        "def posterior_grid(grid_points=50, first_heads_at=5):\n",
        "    \"\"\"\n",
        "    A grid implementation for modeling the first appearance of a head\n",
        "    \"\"\"\n",
        "    grid = np.linspace(0, 1, grid_points)\n",
        "    prior = np.repeat(1/grid_points, grid_points) # uniform prior\n",
        "\n",
        "    likelihood = stats.geom.pmf(first_heads_at, grid)\n",
        "    posterior = likelihood * prior\n",
        "    posterior /= posterior.sum()\n",
        "    return grid, posterior\n",
        "\n",
        "\n",
        "points = 50\n",
        "first_heads_at = 5\n",
        "grid, posterior = posterior_grid(points, first_heads_at)\n",
        "\n",
        "\n",
        "plt.plot(grid, posterior, 'o-')\n",
        "plt.title(f'Probabilitatea de a obține stema la prima aruncare (aparția la a {first_heads_at}-a aruncare)')\n",
        "plt.xlabel('Probabilitatea de a obține stema la o aruncare')\n",
        "plt.ylabel('Probabilitatea a posteriori')\n",
        "plt.show()\n",
        "\n",
        "max_prob_theta = grid[np.argmax(posterior)]\n",
        "print(f\"Probabilitatea maximă a posteriori: {np.max(posterior)} pentru θ = {max_prob_theta}\")\n"
      ],
      "metadata": {
        "colab": {
          "base_uri": "https://localhost:8080/",
          "height": 477
        },
        "id": "akQtYcNCX9cE",
        "outputId": "ddc7444a-70ee-47ad-89f6-cbd27aad0435"
      },
      "execution_count": 42,
      "outputs": [
        {
          "output_type": "display_data",
          "data": {
            "text/plain": [
              "<Figure size 640x480 with 1 Axes>"
            ],
            "image/png": "[encoded data removed]"
          },
          "metadata": {}
        }
      ]
    },
    {
      "cell_type": "code",
      "source": [
        "from google.colab import drive\n",
        "drive.mount('/content/drive')"
      ],
      "metadata": {
        "id": "YQqIiGcWSI-l"
      },
      "execution_count": null,
      "outputs": []
    }
  ]
}
